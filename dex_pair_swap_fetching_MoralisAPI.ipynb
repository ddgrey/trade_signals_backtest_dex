{
 "cells": [
  {
   "cell_type": "code",
   "execution_count": null,
   "id": "08f38a98",
   "metadata": {},
   "outputs": [],
   "source": [
    "import requests\n",
    "import pandas as pd\n",
    "\n",
    "headers = {\n",
    "  \"Accept\": \"application/json\",\n",
    "  \"X-API-Key\": \"my_api\"\n",
    "}\n",
    "\n",
    "pair_name = 'phi_wsol'\n",
    "pair_address = '2RKZJaD7sSues6YxoujsafcBYjxW6t4h9AVgiRWyDjdw'\n",
    "url = f\"https://solana-gateway.moralis.io/token/mainnet/pairs/{pair_address}/swaps\"\n",
    "params = {\n",
    "    \"fromDate\": \"2025-08-15T00:00:00.000Z\",\n",
    "    \"toDate\": \"2025-08-18T20:40:00.000Z\",\n",
    "    \"order\": \"DESC\",\n",
    "    \"pageSize\": 500,\n",
    "    \"cursor\": None\n",
    "}\n",
    "\n",
    "all_results = []\n",
    "\n",
    "while True:\n",
    "    try:\n",
    "        response = requests.get(url, headers=headers, params=params).json()\n",
    "        results = response.get(\"result\", [])\n",
    "        all_results.extend(results)\n",
    "    except Exception as e:\n",
    "        print(\"Error occurred:\", e)\n",
    "        pd.DataFrame(all_results).to_csv(pair_name+\"_swaps.csv\", index=False)\n",
    "    \n",
    "    cursor = response.get(\"cursor\")\n",
    "    if not cursor:\n",
    "        break # no more pages\n",
    "    params[\"cursor\"] = cursor\n",
    "\n",
    "pd.DataFrame(all_results).to_csv(pair_name+'_swaps.csv', index=False)"
   ]
  }
 ],
 "metadata": {
  "kernelspec": {
   "display_name": "Python 3",
   "language": "python",
   "name": "python3"
  },
  "language_info": {
   "name": "python",
   "version": "3.12.1"
  }
 },
 "nbformat": 4,
 "nbformat_minor": 5
}
